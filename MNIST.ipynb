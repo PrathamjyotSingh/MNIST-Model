{
  "nbformat": 4,
  "nbformat_minor": 0,
  "metadata": {
    "colab": {
      "provenance": [],
      "authorship_tag": "ABX9TyN5Sns8KAsMhv8GPCQ18gUC",
      "include_colab_link": true
    },
    "kernelspec": {
      "name": "python3",
      "display_name": "Python 3"
    },
    "language_info": {
      "name": "python"
    }
  },
  "cells": [
    {
      "cell_type": "markdown",
      "metadata": {
        "id": "view-in-github",
        "colab_type": "text"
      },
      "source": [
        "<a href=\"https://colab.research.google.com/github/PrathamjyotSingh/MNIST-Model/blob/main/MNIST.ipynb\" target=\"_parent\"><img src=\"https://colab.research.google.com/assets/colab-badge.svg\" alt=\"Open In Colab\"/></a>"
      ]
    },
    {
      "cell_type": "markdown",
      "source": [
        "#IMPORTS"
      ],
      "metadata": {
        "id": "ejfKajSAcQgY"
      }
    },
    {
      "cell_type": "code",
      "execution_count": null,
      "metadata": {
        "id": "QdgtW4-1cHQJ"
      },
      "outputs": [],
      "source": [
        "import tensorflow\n",
        "from tensorflow import keras\n",
        "from tensorflow.keras import layers\n",
        "from tensorflow.keras.datasets import mnist"
      ]
    },
    {
      "cell_type": "code",
      "source": [
        "(x_train,y_train), (x_test,y_test) = mnist.load_data()\n",
        "x_train=x_train.reshape(-1,28*28).astype(\"float32\")/255.0\n",
        "x_test=x_test.reshape(-1,28*28).astype(\"float32\")/255.0"
      ],
      "metadata": {
        "colab": {
          "base_uri": "https://localhost:8080/"
        },
        "id": "vkMqcC1lc8Iv",
        "outputId": "d59100a8-6e94-4ce1-ebc3-fbff6ce52f48"
      },
      "execution_count": null,
      "outputs": [
        {
          "output_type": "stream",
          "name": "stdout",
          "text": [
            "Downloading data from https://storage.googleapis.com/tensorflow/tf-keras-datasets/mnist.npz\n",
            "11490434/11490434 [==============================] - 0s 0us/step\n"
          ]
        }
      ]
    },
    {
      "cell_type": "markdown",
      "source": [
        "Sequencial API - very convinient , not flexible"
      ],
      "metadata": {
        "id": "q1uWmg4LEkHL"
      }
    },
    {
      "cell_type": "code",
      "source": [
        "model = keras.Sequential(\n",
        "    [\n",
        "        keras.Input(shape=(784)),\n",
        "        layers.Dense(512,activation='relu'),\n",
        "        layers.Dense(256,activation='relu'),\n",
        "        layers.Dense(10),\n",
        "    ]\n",
        ")\n",
        "print(model.summary())\n",
        "\n",
        "model.compile(\n",
        "    loss=keras.losses.SparseCategoricalCrossentropy(from_logits=True),\n",
        "    optimizer=keras.optimizers.Adam(learning_rate=0.001),#Try other optimizers like  Adagrade , Gradient decent with momentum ,RMSprop for diff accu\n",
        "    metrics=[\"accuracy\"],\n",
        ")\n",
        "\n",
        "model.fit(x_train,y_train,batch_size=32,epochs=5,verbose=2)\n",
        "\n",
        "model.evaluate(x_test,y_test,batch_size=32,verbose=2)"
      ],
      "metadata": {
        "id": "j3cQyMErVDFR",
        "colab": {
          "base_uri": "https://localhost:8080/"
        },
        "outputId": "54c0b42c-0640-4185-e20f-621653b95c29"
      },
      "execution_count": null,
      "outputs": [
        {
          "output_type": "stream",
          "name": "stdout",
          "text": [
            "Model: \"sequential_3\"\n",
            "_________________________________________________________________\n",
            " Layer (type)                Output Shape              Param #   \n",
            "=================================================================\n",
            " dense_9 (Dense)             (None, 512)               401920    \n",
            "                                                                 \n",
            " dense_10 (Dense)            (None, 256)               131328    \n",
            "                                                                 \n",
            " dense_11 (Dense)            (None, 10)                2570      \n",
            "                                                                 \n",
            "=================================================================\n",
            "Total params: 535818 (2.04 MB)\n",
            "Trainable params: 535818 (2.04 MB)\n",
            "Non-trainable params: 0 (0.00 Byte)\n",
            "_________________________________________________________________\n"
          ]
        },
        {
          "output_type": "stream",
          "name": "stderr",
          "text": [
            "WARNING:absl:`lr` is deprecated in Keras optimizer, please use `learning_rate` or use the legacy optimizer, e.g.,tf.keras.optimizers.legacy.Adam.\n"
          ]
        },
        {
          "output_type": "stream",
          "name": "stdout",
          "text": [
            "None\n",
            "Epoch 1/5\n",
            "1875/1875 - 15s - loss: 0.1834 - accuracy: 0.9444 - 15s/epoch - 8ms/step\n",
            "Epoch 2/5\n",
            "1875/1875 - 13s - loss: 0.0801 - accuracy: 0.9747 - 13s/epoch - 7ms/step\n",
            "Epoch 3/5\n",
            "1875/1875 - 15s - loss: 0.0538 - accuracy: 0.9829 - 15s/epoch - 8ms/step\n",
            "Epoch 4/5\n",
            "1875/1875 - 14s - loss: 0.0415 - accuracy: 0.9870 - 14s/epoch - 7ms/step\n",
            "Epoch 5/5\n",
            "1875/1875 - 13s - loss: 0.0320 - accuracy: 0.9902 - 13s/epoch - 7ms/step\n",
            "313/313 - 1s - loss: 0.0811 - accuracy: 0.9784 - 1s/epoch - 4ms/step\n"
          ]
        },
        {
          "output_type": "execute_result",
          "data": {
            "text/plain": [
              "[0.08108334988355637, 0.9783999919891357]"
            ]
          },
          "metadata": {},
          "execution_count": 6
        }
      ]
    },
    {
      "cell_type": "markdown",
      "source": [
        "Functional API - more flexible"
      ],
      "metadata": {
        "id": "cM_6LdsuRsBF"
      }
    },
    {
      "cell_type": "code",
      "source": [
        "inputs=keras.Input(shape=(784))\n",
        "x=layers.Dense(512,activation='relu')(inputs)\n",
        "x=layers.Dense(256,activation='relu')(x)\n",
        "outputs=layers.Dense(10,activation='softmax')(x)\n",
        "\n",
        "model=keras.Model(inputs=inputs,outputs=outputs)\n",
        "\n",
        "model.compile(\n",
        "    loss=keras.losses.SparseCategoricalCrossentropy(from_logits=False),\n",
        "    optimizer=keras.optimizers.Adam(learning_rate=0.001),#Try other optimizers like  Adagrade , Gradient decent with momentum ,RMSprop for diff acc\n",
        "    metrics=[\"accuracy\"],\n",
        ")\n",
        "\n",
        "model.fit(x_train,y_train,batch_size=32,epochs=5,verbose=2)\n",
        "\n",
        "model.evaluate(x_test,y_test,batch_size=32,verbose=2)"
      ],
      "metadata": {
        "colab": {
          "base_uri": "https://localhost:8080/"
        },
        "id": "zTH_-D_-KLa3",
        "outputId": "8eab3c29-127f-4830-8bc7-ec7f8fa72744"
      },
      "execution_count": null,
      "outputs": [
        {
          "output_type": "stream",
          "name": "stderr",
          "text": [
            "WARNING:absl:`lr` is deprecated in Keras optimizer, please use `learning_rate` or use the legacy optimizer, e.g.,tf.keras.optimizers.legacy.Adam.\n"
          ]
        },
        {
          "output_type": "stream",
          "name": "stdout",
          "text": [
            "Epoch 1/5\n",
            "1875/1875 - 14s - loss: 0.1895 - accuracy: 0.9430 - 14s/epoch - 7ms/step\n",
            "Epoch 2/5\n",
            "1875/1875 - 14s - loss: 0.0823 - accuracy: 0.9743 - 14s/epoch - 7ms/step\n",
            "Epoch 3/5\n",
            "1875/1875 - 14s - loss: 0.0549 - accuracy: 0.9831 - 14s/epoch - 7ms/step\n",
            "Epoch 4/5\n",
            "1875/1875 - 14s - loss: 0.0409 - accuracy: 0.9873 - 14s/epoch - 7ms/step\n",
            "Epoch 5/5\n",
            "1875/1875 - 14s - loss: 0.0351 - accuracy: 0.9881 - 14s/epoch - 7ms/step\n",
            "313/313 - 1s - loss: 0.0753 - accuracy: 0.9802 - 788ms/epoch - 3ms/step\n"
          ]
        },
        {
          "output_type": "execute_result",
          "data": {
            "text/plain": [
              "[0.07534793764352798, 0.9801999926567078]"
            ]
          },
          "metadata": {},
          "execution_count": 8
        }
      ]
    }
  ]
}
